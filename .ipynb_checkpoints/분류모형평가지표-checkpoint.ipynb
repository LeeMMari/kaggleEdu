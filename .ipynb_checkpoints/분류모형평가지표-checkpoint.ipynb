{
 "cells": [
  {
   "cell_type": "markdown",
   "id": "2f624d7f-3170-41c6-870b-c9918321373c",
   "metadata": {},
   "source": [
    "## 분류모형 평가지표\n",
    "- Confusion Matrix (혼동행렬)\n",
    "    + 정확도(Accuracy)\n",
    "    + 재현율(Recall)\n",
    "    + 정밀도(Precision)\n",
    "    + F-Score"
   ]
  },
  {
   "cell_type": "code",
   "execution_count": 3,
   "id": "09613b44-311c-4595-a0dc-3283914fccae",
   "metadata": {
    "tags": []
   },
   "outputs": [
    {
     "data": {
      "text/plain": [
       "array([[4, 1],\n",
       "       [3, 2]], dtype=int64)"
      ]
     },
     "execution_count": 3,
     "metadata": {},
     "output_type": "execute_result"
    }
   ],
   "source": [
    "from sklearn.metrics import confusion_matrix\n",
    "y_true = [0, 1, 1, 1, 0, 0, 0, 1, 0, 1]\n",
    "y_pred = [0, 0, 1, 0, 0, 0, 0, 1, 1, 0]\n",
    "\n",
    "confusion_matrix(y_true, y_pred)"
   ]
  },
  {
   "cell_type": "code",
   "execution_count": 4,
   "id": "b77b80ba-dc62-4e6d-a9bf-e4838f606ca4",
   "metadata": {
    "tags": []
   },
   "outputs": [
    {
     "name": "stdout",
     "output_type": "stream",
     "text": [
      "4 1 3 2\n"
     ]
    }
   ],
   "source": [
    "tn, fp, fn, tp = confusion_matrix(y_true, y_pred).ravel()\n",
    "print(tn, fp, fn, tp)"
   ]
  },
  {
   "cell_type": "code",
   "execution_count": 5,
   "id": "0c5b57f7-59bd-44ff-8362-6f81519caa58",
   "metadata": {
    "tags": []
   },
   "outputs": [
    {
     "data": {
      "text/plain": [
       "0.6666666666666666"
      ]
     },
     "execution_count": 5,
     "metadata": {},
     "output_type": "execute_result"
    }
   ],
   "source": [
    "from sklearn.metrics import precision_score\n",
    "precision_score(y_true, y_pred)"
   ]
  },
  {
   "cell_type": "code",
   "execution_count": 6,
   "id": "a644e74f-71ea-46ec-a456-00721c0db880",
   "metadata": {
    "tags": []
   },
   "outputs": [
    {
     "data": {
      "text/plain": [
       "0.4"
      ]
     },
     "execution_count": 6,
     "metadata": {},
     "output_type": "execute_result"
    }
   ],
   "source": [
    "from sklearn.metrics import recall_score\n",
    "recall_score(y_true, y_pred)"
   ]
  },
  {
   "cell_type": "code",
   "execution_count": 7,
   "id": "7605228a-016b-45b3-b81a-2d20ec07bf03",
   "metadata": {
    "tags": []
   },
   "outputs": [
    {
     "data": {
      "text/plain": [
       "0.5"
      ]
     },
     "execution_count": 7,
     "metadata": {},
     "output_type": "execute_result"
    }
   ],
   "source": [
    "from sklearn.metrics import f1_score\n",
    "f1_score(y_true, y_pred)"
   ]
  },
  {
   "cell_type": "markdown",
   "id": "54fa3ce5-d4f7-454c-aaf9-b94e3384e891",
   "metadata": {},
   "source": [
    "## 모형 신뢰도\n",
    "- AUC, ROC_CURVE\n",
    "- AUC = 1, 가장 좋은 모델, 정확도 100%\n",
    "- AUC = 0.5, 사람이 예측을 하나, 알고리즘이 에측을 하나 큰 의미가 없다.\n",
    "- AUC 0.8 ~ 0.9 사이인 모델을 좋은 모델이라고 판단!"
   ]
  }
 ],
 "metadata": {
  "kernelspec": {
   "display_name": "Python 3 (ipykernel)",
   "language": "python",
   "name": "python3"
  },
  "language_info": {
   "codemirror_mode": {
    "name": "ipython",
    "version": 3
   },
   "file_extension": ".py",
   "mimetype": "text/x-python",
   "name": "python",
   "nbconvert_exporter": "python",
   "pygments_lexer": "ipython3",
   "version": "3.11.2"
  }
 },
 "nbformat": 4,
 "nbformat_minor": 5
}
